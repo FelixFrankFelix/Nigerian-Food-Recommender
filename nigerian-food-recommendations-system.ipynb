{
 "cells": [
  {
   "cell_type": "code",
   "execution_count": 1,
   "id": "6933bcdb",
   "metadata": {
    "_cell_guid": "b1076dfc-b9ad-4769-8c92-a6c4dae69d19",
    "_uuid": "8f2839f25d086af736a60e9eeb907d3b93b6e0e5",
    "execution": {
     "iopub.execute_input": "2024-03-08T20:41:45.698197Z",
     "iopub.status.busy": "2024-03-08T20:41:45.697773Z",
     "iopub.status.idle": "2024-03-08T20:41:46.719387Z",
     "shell.execute_reply": "2024-03-08T20:41:46.717808Z"
    },
    "papermill": {
     "duration": 1.032295,
     "end_time": "2024-03-08T20:41:46.722368",
     "exception": false,
     "start_time": "2024-03-08T20:41:45.690073",
     "status": "completed"
    },
    "tags": []
   },
   "outputs": [
    {
     "name": "stdout",
     "output_type": "stream",
     "text": [
      "/kaggle/input/nigerian-foods/Nigerian Foods.csv\n"
     ]
    }
   ],
   "source": [
    "# This Python 3 environment comes with many helpful analytics libraries installed\n",
    "# It is defined by the kaggle/python Docker image: https://github.com/kaggle/docker-python\n",
    "# For example, here's several helpful packages to load\n",
    "\n",
    "import numpy as np # linear algebra\n",
    "import pandas as pd # data processing, CSV file I/O (e.g. pd.read_csv)\n",
    "\n",
    "# Input data files are available in the read-only \"../input/\" directory\n",
    "# For example, running this (by clicking run or pressing Shift+Enter) will list all files under the input directory\n",
    "\n",
    "import os\n",
    "for dirname, _, filenames in os.walk('/kaggle/input/nigerian-foods'):\n",
    "    for filename in filenames:\n",
    "        print(os.path.join(dirname, filename))\n",
    "\n",
    "# You can write up to 20GB to the current directory (/kaggle/working/) that gets preserved as output when you create a version using \"Save & Run All\" \n",
    "# You can also write temporary files to /kaggle/temp/, but they won't be saved outside of the current session"
   ]
  },
  {
   "cell_type": "code",
   "execution_count": 2,
   "id": "f73fcf97",
   "metadata": {
    "execution": {
     "iopub.execute_input": "2024-03-08T20:41:46.737789Z",
     "iopub.status.busy": "2024-03-08T20:41:46.736143Z",
     "iopub.status.idle": "2024-03-08T20:41:48.858673Z",
     "shell.execute_reply": "2024-03-08T20:41:48.857506Z"
    },
    "papermill": {
     "duration": 2.133148,
     "end_time": "2024-03-08T20:41:48.861530",
     "exception": false,
     "start_time": "2024-03-08T20:41:46.728382",
     "status": "completed"
    },
    "tags": []
   },
   "outputs": [],
   "source": [
    "# EDA\n",
    "import pandas as pd\n",
    "import numpy as np\n",
    "\n",
    "# Data Preprocessing \n",
    "from sklearn import preprocessing\n",
    "\n",
    "# Data visualisation\n",
    "import matplotlib.pyplot as plt\n",
    "import seaborn as sns\n",
    "sns.set()\n",
    "\n",
    "# Recommender System Imps\n",
    "# Content Based Filtering \n",
    "from sklearn.feature_extraction.text import TfidfVectorizer\n",
    "from sklearn.metrics.pairwise import linear_kernel\n",
    "from sklearn.feature_extraction.text import CountVectorizer\n",
    "from sklearn.metrics.pairwise import cosine_similarity\n",
    "# Collaborative Based Filtering \n",
    "from scipy.sparse import csr_matrix\n",
    "from sklearn.neighbors import NearestNeighbors\n",
    "\n",
    "# To work with text data \n",
    "import re\n",
    "import string"
   ]
  },
  {
   "cell_type": "code",
   "execution_count": 3,
   "id": "df68251e",
   "metadata": {
    "execution": {
     "iopub.execute_input": "2024-03-08T20:41:48.874826Z",
     "iopub.status.busy": "2024-03-08T20:41:48.874335Z",
     "iopub.status.idle": "2024-03-08T20:41:48.911773Z",
     "shell.execute_reply": "2024-03-08T20:41:48.909920Z"
    },
    "papermill": {
     "duration": 0.04746,
     "end_time": "2024-03-08T20:41:48.914636",
     "exception": false,
     "start_time": "2024-03-08T20:41:48.867176",
     "status": "completed"
    },
    "tags": []
   },
   "outputs": [
    {
     "data": {
      "text/html": [
       "<div>\n",
       "<style scoped>\n",
       "    .dataframe tbody tr th:only-of-type {\n",
       "        vertical-align: middle;\n",
       "    }\n",
       "\n",
       "    .dataframe tbody tr th {\n",
       "        vertical-align: top;\n",
       "    }\n",
       "\n",
       "    .dataframe thead th {\n",
       "        text-align: right;\n",
       "    }\n",
       "</style>\n",
       "<table border=\"1\" class=\"dataframe\">\n",
       "  <thead>\n",
       "    <tr style=\"text-align: right;\">\n",
       "      <th></th>\n",
       "      <th>Food_Name</th>\n",
       "      <th>Main_Ingredients</th>\n",
       "      <th>Description</th>\n",
       "      <th>Food_Health</th>\n",
       "      <th>Food_Class</th>\n",
       "      <th>Region</th>\n",
       "      <th>Spice_Level</th>\n",
       "      <th>Price_Range</th>\n",
       "    </tr>\n",
       "  </thead>\n",
       "  <tbody>\n",
       "    <tr>\n",
       "      <th>0</th>\n",
       "      <td>Abacha</td>\n",
       "      <td>African salad, utazi leaves, oil, fish</td>\n",
       "      <td>Cassava-based salad with spicy fish</td>\n",
       "      <td>Healthy</td>\n",
       "      <td>Traditional</td>\n",
       "      <td>South-East</td>\n",
       "      <td>Spicy</td>\n",
       "      <td>Affordable</td>\n",
       "    </tr>\n",
       "    <tr>\n",
       "      <th>1</th>\n",
       "      <td>Abacha and Ugba (Regular)</td>\n",
       "      <td>Abacha (Cassava Fufu), Ugba (Oilbean Seeds)</td>\n",
       "      <td>Shredded cassava fufu served with oilbean seeds.</td>\n",
       "      <td>Healthy</td>\n",
       "      <td>Traditional</td>\n",
       "      <td>Eastern</td>\n",
       "      <td>NaN</td>\n",
       "      <td>Affordable</td>\n",
       "    </tr>\n",
       "    <tr>\n",
       "      <th>2</th>\n",
       "      <td>Abacha and Ugba</td>\n",
       "      <td>African salad, oil, fish, fermented oil bean s...</td>\n",
       "      <td>Cassava-based salad with spicy fish and fermen...</td>\n",
       "      <td>Healthy</td>\n",
       "      <td>Salad</td>\n",
       "      <td>South-East</td>\n",
       "      <td>Spicy</td>\n",
       "      <td>Affordable</td>\n",
       "    </tr>\n",
       "    <tr>\n",
       "      <th>3</th>\n",
       "      <td>Afang Soup (Spicy)</td>\n",
       "      <td>Afang Leaves, Water yam, Seafood</td>\n",
       "      <td>Spicy soup made with afang leaves, water yam, ...</td>\n",
       "      <td>Healthy</td>\n",
       "      <td>Traditional</td>\n",
       "      <td>Southern</td>\n",
       "      <td>Spicy</td>\n",
       "      <td>Affordable</td>\n",
       "    </tr>\n",
       "    <tr>\n",
       "      <th>4</th>\n",
       "      <td>Afang Soup</td>\n",
       "      <td>Afang leaves, waterleaf, meat, fish</td>\n",
       "      <td>Nutritious soup made with wild spinach and wat...</td>\n",
       "      <td>Healthy</td>\n",
       "      <td>Traditional</td>\n",
       "      <td>South-South</td>\n",
       "      <td>Mild</td>\n",
       "      <td>Affordable</td>\n",
       "    </tr>\n",
       "  </tbody>\n",
       "</table>\n",
       "</div>"
      ],
      "text/plain": [
       "                   Food_Name  \\\n",
       "0                     Abacha   \n",
       "1  Abacha and Ugba (Regular)   \n",
       "2            Abacha and Ugba   \n",
       "3         Afang Soup (Spicy)   \n",
       "4                 Afang Soup   \n",
       "\n",
       "                                    Main_Ingredients  \\\n",
       "0             African salad, utazi leaves, oil, fish   \n",
       "1        Abacha (Cassava Fufu), Ugba (Oilbean Seeds)   \n",
       "2  African salad, oil, fish, fermented oil bean s...   \n",
       "3                   Afang Leaves, Water yam, Seafood   \n",
       "4                Afang leaves, waterleaf, meat, fish   \n",
       "\n",
       "                                         Description Food_Health   Food_Class  \\\n",
       "0                Cassava-based salad with spicy fish     Healthy  Traditional   \n",
       "1   Shredded cassava fufu served with oilbean seeds.     Healthy  Traditional   \n",
       "2  Cassava-based salad with spicy fish and fermen...     Healthy        Salad   \n",
       "3  Spicy soup made with afang leaves, water yam, ...     Healthy  Traditional   \n",
       "4  Nutritious soup made with wild spinach and wat...     Healthy  Traditional   \n",
       "\n",
       "        Region Spice_Level Price_Range  \n",
       "0   South-East       Spicy  Affordable  \n",
       "1      Eastern         NaN  Affordable  \n",
       "2   South-East       Spicy  Affordable  \n",
       "3     Southern       Spicy  Affordable  \n",
       "4  South-South        Mild  Affordable  "
      ]
     },
     "execution_count": 3,
     "metadata": {},
     "output_type": "execute_result"
    }
   ],
   "source": [
    "df = pd.read_csv(\"/kaggle/input/nigerian-foods/Nigerian Foods.csv\")\n",
    "df.head()"
   ]
  },
  {
   "cell_type": "code",
   "execution_count": 4,
   "id": "b947dd33",
   "metadata": {
    "execution": {
     "iopub.execute_input": "2024-03-08T20:41:48.928516Z",
     "iopub.status.busy": "2024-03-08T20:41:48.928017Z",
     "iopub.status.idle": "2024-03-08T20:41:48.959881Z",
     "shell.execute_reply": "2024-03-08T20:41:48.958326Z"
    },
    "papermill": {
     "duration": 0.042081,
     "end_time": "2024-03-08T20:41:48.962650",
     "exception": false,
     "start_time": "2024-03-08T20:41:48.920569",
     "status": "completed"
    },
    "tags": []
   },
   "outputs": [
    {
     "name": "stdout",
     "output_type": "stream",
     "text": [
      "<class 'pandas.core.frame.DataFrame'>\n",
      "RangeIndex: 109 entries, 0 to 108\n",
      "Data columns (total 8 columns):\n",
      " #   Column            Non-Null Count  Dtype \n",
      "---  ------            --------------  ----- \n",
      " 0   Food_Name         109 non-null    object\n",
      " 1   Main_Ingredients  109 non-null    object\n",
      " 2   Description       109 non-null    object\n",
      " 3   Food_Health       109 non-null    object\n",
      " 4   Food_Class        109 non-null    object\n",
      " 5   Region            109 non-null    object\n",
      " 6   Spice_Level       94 non-null     object\n",
      " 7   Price_Range       109 non-null    object\n",
      "dtypes: object(8)\n",
      "memory usage: 6.9+ KB\n"
     ]
    }
   ],
   "source": [
    "df.info()"
   ]
  },
  {
   "cell_type": "code",
   "execution_count": 5,
   "id": "310e91d8",
   "metadata": {
    "execution": {
     "iopub.execute_input": "2024-03-08T20:41:48.976177Z",
     "iopub.status.busy": "2024-03-08T20:41:48.975734Z",
     "iopub.status.idle": "2024-03-08T20:41:48.985376Z",
     "shell.execute_reply": "2024-03-08T20:41:48.983984Z"
    },
    "papermill": {
     "duration": 0.019419,
     "end_time": "2024-03-08T20:41:48.987878",
     "exception": false,
     "start_time": "2024-03-08T20:41:48.968459",
     "status": "completed"
    },
    "tags": []
   },
   "outputs": [
    {
     "data": {
      "text/plain": [
       "Food_Name            0\n",
       "Main_Ingredients     0\n",
       "Description          0\n",
       "Food_Health          0\n",
       "Food_Class           0\n",
       "Region               0\n",
       "Spice_Level         15\n",
       "Price_Range          0\n",
       "dtype: int64"
      ]
     },
     "execution_count": 5,
     "metadata": {},
     "output_type": "execute_result"
    }
   ],
   "source": [
    "df.isnull().sum()"
   ]
  },
  {
   "cell_type": "markdown",
   "id": "319d95f1",
   "metadata": {
    "papermill": {
     "duration": 0.005508,
     "end_time": "2024-03-08T20:41:48.999301",
     "exception": false,
     "start_time": "2024-03-08T20:41:48.993793",
     "status": "completed"
    },
    "tags": []
   },
   "source": [
    "## Data Proprocessing"
   ]
  },
  {
   "cell_type": "code",
   "execution_count": 6,
   "id": "0477dd55",
   "metadata": {
    "execution": {
     "iopub.execute_input": "2024-03-08T20:41:49.013292Z",
     "iopub.status.busy": "2024-03-08T20:41:49.012373Z",
     "iopub.status.idle": "2024-03-08T20:41:49.028668Z",
     "shell.execute_reply": "2024-03-08T20:41:49.027293Z"
    },
    "papermill": {
     "duration": 0.025799,
     "end_time": "2024-03-08T20:41:49.030993",
     "exception": false,
     "start_time": "2024-03-08T20:41:49.005194",
     "status": "completed"
    },
    "tags": []
   },
   "outputs": [
    {
     "name": "stderr",
     "output_type": "stream",
     "text": [
      "/tmp/ipykernel_18/531181275.py:1: FutureWarning: A value is trying to be set on a copy of a DataFrame or Series through chained assignment using an inplace method.\n",
      "The behavior will change in pandas 3.0. This inplace method will never work because the intermediate object on which we are setting values always behaves as a copy.\n",
      "\n",
      "For example, when doing 'df[col].method(value, inplace=True)', try using 'df.method({col: value}, inplace=True)' or df[col] = df[col].method(value) instead, to perform the operation inplace on the original object.\n",
      "\n",
      "\n",
      "  df['Spice_Level'].fillna('None',inplace=True)\n"
     ]
    },
    {
     "data": {
      "text/html": [
       "<div>\n",
       "<style scoped>\n",
       "    .dataframe tbody tr th:only-of-type {\n",
       "        vertical-align: middle;\n",
       "    }\n",
       "\n",
       "    .dataframe tbody tr th {\n",
       "        vertical-align: top;\n",
       "    }\n",
       "\n",
       "    .dataframe thead th {\n",
       "        text-align: right;\n",
       "    }\n",
       "</style>\n",
       "<table border=\"1\" class=\"dataframe\">\n",
       "  <thead>\n",
       "    <tr style=\"text-align: right;\">\n",
       "      <th></th>\n",
       "      <th>Food_Name</th>\n",
       "      <th>Main_Ingredients</th>\n",
       "      <th>Description</th>\n",
       "      <th>Food_Health</th>\n",
       "      <th>Food_Class</th>\n",
       "      <th>Region</th>\n",
       "      <th>Spice_Level</th>\n",
       "      <th>Price_Range</th>\n",
       "    </tr>\n",
       "  </thead>\n",
       "  <tbody>\n",
       "    <tr>\n",
       "      <th>0</th>\n",
       "      <td>Abacha</td>\n",
       "      <td>African salad, utazi leaves, oil, fish</td>\n",
       "      <td>Cassava-based salad with spicy fish</td>\n",
       "      <td>Healthy</td>\n",
       "      <td>Traditional</td>\n",
       "      <td>South-East</td>\n",
       "      <td>Spicy</td>\n",
       "      <td>Affordable</td>\n",
       "    </tr>\n",
       "    <tr>\n",
       "      <th>1</th>\n",
       "      <td>Abacha and Ugba (Regular)</td>\n",
       "      <td>Abacha (Cassava Fufu), Ugba (Oilbean Seeds)</td>\n",
       "      <td>Shredded cassava fufu served with oilbean seeds.</td>\n",
       "      <td>Healthy</td>\n",
       "      <td>Traditional</td>\n",
       "      <td>Eastern</td>\n",
       "      <td>None</td>\n",
       "      <td>Affordable</td>\n",
       "    </tr>\n",
       "    <tr>\n",
       "      <th>2</th>\n",
       "      <td>Abacha and Ugba</td>\n",
       "      <td>African salad, oil, fish, fermented oil bean s...</td>\n",
       "      <td>Cassava-based salad with spicy fish and fermen...</td>\n",
       "      <td>Healthy</td>\n",
       "      <td>Salad</td>\n",
       "      <td>South-East</td>\n",
       "      <td>Spicy</td>\n",
       "      <td>Affordable</td>\n",
       "    </tr>\n",
       "    <tr>\n",
       "      <th>3</th>\n",
       "      <td>Afang Soup (Spicy)</td>\n",
       "      <td>Afang Leaves, Water yam, Seafood</td>\n",
       "      <td>Spicy soup made with afang leaves, water yam, ...</td>\n",
       "      <td>Healthy</td>\n",
       "      <td>Traditional</td>\n",
       "      <td>Southern</td>\n",
       "      <td>Spicy</td>\n",
       "      <td>Affordable</td>\n",
       "    </tr>\n",
       "    <tr>\n",
       "      <th>4</th>\n",
       "      <td>Afang Soup</td>\n",
       "      <td>Afang leaves, waterleaf, meat, fish</td>\n",
       "      <td>Nutritious soup made with wild spinach and wat...</td>\n",
       "      <td>Healthy</td>\n",
       "      <td>Traditional</td>\n",
       "      <td>South-South</td>\n",
       "      <td>Mild</td>\n",
       "      <td>Affordable</td>\n",
       "    </tr>\n",
       "  </tbody>\n",
       "</table>\n",
       "</div>"
      ],
      "text/plain": [
       "                   Food_Name  \\\n",
       "0                     Abacha   \n",
       "1  Abacha and Ugba (Regular)   \n",
       "2            Abacha and Ugba   \n",
       "3         Afang Soup (Spicy)   \n",
       "4                 Afang Soup   \n",
       "\n",
       "                                    Main_Ingredients  \\\n",
       "0             African salad, utazi leaves, oil, fish   \n",
       "1        Abacha (Cassava Fufu), Ugba (Oilbean Seeds)   \n",
       "2  African salad, oil, fish, fermented oil bean s...   \n",
       "3                   Afang Leaves, Water yam, Seafood   \n",
       "4                Afang leaves, waterleaf, meat, fish   \n",
       "\n",
       "                                         Description Food_Health   Food_Class  \\\n",
       "0                Cassava-based salad with spicy fish     Healthy  Traditional   \n",
       "1   Shredded cassava fufu served with oilbean seeds.     Healthy  Traditional   \n",
       "2  Cassava-based salad with spicy fish and fermen...     Healthy        Salad   \n",
       "3  Spicy soup made with afang leaves, water yam, ...     Healthy  Traditional   \n",
       "4  Nutritious soup made with wild spinach and wat...     Healthy  Traditional   \n",
       "\n",
       "        Region Spice_Level Price_Range  \n",
       "0   South-East       Spicy  Affordable  \n",
       "1      Eastern        None  Affordable  \n",
       "2   South-East       Spicy  Affordable  \n",
       "3     Southern       Spicy  Affordable  \n",
       "4  South-South        Mild  Affordable  "
      ]
     },
     "execution_count": 6,
     "metadata": {},
     "output_type": "execute_result"
    }
   ],
   "source": [
    "df['Spice_Level'].fillna('None',inplace=True)\n",
    "df.head()"
   ]
  },
  {
   "cell_type": "code",
   "execution_count": 7,
   "id": "14bd814c",
   "metadata": {
    "execution": {
     "iopub.execute_input": "2024-03-08T20:41:49.045753Z",
     "iopub.status.busy": "2024-03-08T20:41:49.045275Z",
     "iopub.status.idle": "2024-03-08T20:41:49.051458Z",
     "shell.execute_reply": "2024-03-08T20:41:49.050157Z"
    },
    "papermill": {
     "duration": 0.01671,
     "end_time": "2024-03-08T20:41:49.053982",
     "exception": false,
     "start_time": "2024-03-08T20:41:49.037272",
     "status": "completed"
    },
    "tags": []
   },
   "outputs": [],
   "source": [
    "features = ['Main_Ingredients','Description', 'Food_Health','Food_Class','Region','Spice_Level']"
   ]
  },
  {
   "cell_type": "code",
   "execution_count": 8,
   "id": "38b49ab9",
   "metadata": {
    "execution": {
     "iopub.execute_input": "2024-03-08T20:41:49.069663Z",
     "iopub.status.busy": "2024-03-08T20:41:49.069170Z",
     "iopub.status.idle": "2024-03-08T20:41:49.075771Z",
     "shell.execute_reply": "2024-03-08T20:41:49.074291Z"
    },
    "papermill": {
     "duration": 0.017592,
     "end_time": "2024-03-08T20:41:49.078755",
     "exception": false,
     "start_time": "2024-03-08T20:41:49.061163",
     "status": "completed"
    },
    "tags": []
   },
   "outputs": [],
   "source": [
    "def create_food(x):\n",
    "    return x['Main_Ingredients'] + \" \" + x['Description'] + \" \" + x['Food_Health']+ \" \" + x['Food_Health']+ \" \" + x['Food_Class']+ \" \" + x['Region']+ \" \" + x['Spice_Level']"
   ]
  },
  {
   "cell_type": "code",
   "execution_count": 9,
   "id": "71912b2c",
   "metadata": {
    "execution": {
     "iopub.execute_input": "2024-03-08T20:41:49.094275Z",
     "iopub.status.busy": "2024-03-08T20:41:49.093823Z",
     "iopub.status.idle": "2024-03-08T20:41:49.122056Z",
     "shell.execute_reply": "2024-03-08T20:41:49.120520Z"
    },
    "papermill": {
     "duration": 0.039578,
     "end_time": "2024-03-08T20:41:49.124853",
     "exception": false,
     "start_time": "2024-03-08T20:41:49.085275",
     "status": "completed"
    },
    "tags": []
   },
   "outputs": [
    {
     "data": {
      "text/html": [
       "<div>\n",
       "<style scoped>\n",
       "    .dataframe tbody tr th:only-of-type {\n",
       "        vertical-align: middle;\n",
       "    }\n",
       "\n",
       "    .dataframe tbody tr th {\n",
       "        vertical-align: top;\n",
       "    }\n",
       "\n",
       "    .dataframe thead th {\n",
       "        text-align: right;\n",
       "    }\n",
       "</style>\n",
       "<table border=\"1\" class=\"dataframe\">\n",
       "  <thead>\n",
       "    <tr style=\"text-align: right;\">\n",
       "      <th></th>\n",
       "      <th>Food_Name</th>\n",
       "      <th>Main_Ingredients</th>\n",
       "      <th>Description</th>\n",
       "      <th>Food_Health</th>\n",
       "      <th>Food_Class</th>\n",
       "      <th>Region</th>\n",
       "      <th>Spice_Level</th>\n",
       "      <th>Price_Range</th>\n",
       "      <th>full_decs</th>\n",
       "    </tr>\n",
       "  </thead>\n",
       "  <tbody>\n",
       "    <tr>\n",
       "      <th>0</th>\n",
       "      <td>Abacha</td>\n",
       "      <td>African salad, utazi leaves, oil, fish</td>\n",
       "      <td>Cassava-based salad with spicy fish</td>\n",
       "      <td>Healthy</td>\n",
       "      <td>Traditional</td>\n",
       "      <td>South-East</td>\n",
       "      <td>Spicy</td>\n",
       "      <td>Affordable</td>\n",
       "      <td>African salad, utazi leaves, oil, fish Cassava...</td>\n",
       "    </tr>\n",
       "    <tr>\n",
       "      <th>1</th>\n",
       "      <td>Abacha and Ugba (Regular)</td>\n",
       "      <td>Abacha (Cassava Fufu), Ugba (Oilbean Seeds)</td>\n",
       "      <td>Shredded cassava fufu served with oilbean seeds.</td>\n",
       "      <td>Healthy</td>\n",
       "      <td>Traditional</td>\n",
       "      <td>Eastern</td>\n",
       "      <td>None</td>\n",
       "      <td>Affordable</td>\n",
       "      <td>Abacha (Cassava Fufu), Ugba (Oilbean Seeds) Sh...</td>\n",
       "    </tr>\n",
       "    <tr>\n",
       "      <th>2</th>\n",
       "      <td>Abacha and Ugba</td>\n",
       "      <td>African salad, oil, fish, fermented oil bean s...</td>\n",
       "      <td>Cassava-based salad with spicy fish and fermen...</td>\n",
       "      <td>Healthy</td>\n",
       "      <td>Salad</td>\n",
       "      <td>South-East</td>\n",
       "      <td>Spicy</td>\n",
       "      <td>Affordable</td>\n",
       "      <td>African salad, oil, fish, fermented oil bean s...</td>\n",
       "    </tr>\n",
       "    <tr>\n",
       "      <th>3</th>\n",
       "      <td>Afang Soup (Spicy)</td>\n",
       "      <td>Afang Leaves, Water yam, Seafood</td>\n",
       "      <td>Spicy soup made with afang leaves, water yam, ...</td>\n",
       "      <td>Healthy</td>\n",
       "      <td>Traditional</td>\n",
       "      <td>Southern</td>\n",
       "      <td>Spicy</td>\n",
       "      <td>Affordable</td>\n",
       "      <td>Afang Leaves, Water yam, Seafood Spicy soup ma...</td>\n",
       "    </tr>\n",
       "    <tr>\n",
       "      <th>4</th>\n",
       "      <td>Afang Soup</td>\n",
       "      <td>Afang leaves, waterleaf, meat, fish</td>\n",
       "      <td>Nutritious soup made with wild spinach and wat...</td>\n",
       "      <td>Healthy</td>\n",
       "      <td>Traditional</td>\n",
       "      <td>South-South</td>\n",
       "      <td>Mild</td>\n",
       "      <td>Affordable</td>\n",
       "      <td>Afang leaves, waterleaf, meat, fish Nutritious...</td>\n",
       "    </tr>\n",
       "    <tr>\n",
       "      <th>...</th>\n",
       "      <td>...</td>\n",
       "      <td>...</td>\n",
       "      <td>...</td>\n",
       "      <td>...</td>\n",
       "      <td>...</td>\n",
       "      <td>...</td>\n",
       "      <td>...</td>\n",
       "      <td>...</td>\n",
       "      <td>...</td>\n",
       "    </tr>\n",
       "    <tr>\n",
       "      <th>104</th>\n",
       "      <td>Ukodo</td>\n",
       "      <td>Yam, plantains, meat, fish</td>\n",
       "      <td>Yam and plantain pepper soup with assorted meats</td>\n",
       "      <td>Healthy</td>\n",
       "      <td>Traditional</td>\n",
       "      <td>South-East</td>\n",
       "      <td>Spicy</td>\n",
       "      <td>Affordable</td>\n",
       "      <td>Yam, plantains, meat, fish Yam and plantain pe...</td>\n",
       "    </tr>\n",
       "    <tr>\n",
       "      <th>105</th>\n",
       "      <td>Ukwa (Breadfruit)</td>\n",
       "      <td>Breadfruit, palm oil, spices</td>\n",
       "      <td>Special occasion dish made with breadfruit, a ...</td>\n",
       "      <td>Healthy</td>\n",
       "      <td>Traditional</td>\n",
       "      <td>South-East</td>\n",
       "      <td>Varies</td>\n",
       "      <td>Moderate-Expensive</td>\n",
       "      <td>Breadfruit, palm oil, spices Special occasion ...</td>\n",
       "    </tr>\n",
       "    <tr>\n",
       "      <th>106</th>\n",
       "      <td>White Soup</td>\n",
       "      <td>Yams, Ugu (Spinach), Palm Oil</td>\n",
       "      <td>Creamy white soup made with yams, spinach, and...</td>\n",
       "      <td>Healthy</td>\n",
       "      <td>Traditional</td>\n",
       "      <td>Eastern</td>\n",
       "      <td>None</td>\n",
       "      <td>Affordable</td>\n",
       "      <td>Yams, Ugu (Spinach), Palm Oil Creamy white sou...</td>\n",
       "    </tr>\n",
       "    <tr>\n",
       "      <th>107</th>\n",
       "      <td>White Soup (Goat)</td>\n",
       "      <td>Catfish (substitute with expensive protein - g...</td>\n",
       "      <td>White soup with goat meat as a pricier alterna...</td>\n",
       "      <td>Healthy</td>\n",
       "      <td>Traditional</td>\n",
       "      <td>South-East</td>\n",
       "      <td>Mild</td>\n",
       "      <td>Moderate-Expensive</td>\n",
       "      <td>Catfish (substitute with expensive protein - g...</td>\n",
       "    </tr>\n",
       "    <tr>\n",
       "      <th>108</th>\n",
       "      <td>White Soup (Special)</td>\n",
       "      <td>Catfish, expensive starches (plantain flour), ...</td>\n",
       "      <td>Special white soup made with catfish and premi...</td>\n",
       "      <td>Healthy</td>\n",
       "      <td>Traditional</td>\n",
       "      <td>South-East</td>\n",
       "      <td>Mild</td>\n",
       "      <td>Expensive</td>\n",
       "      <td>Catfish, expensive starches (plantain flour), ...</td>\n",
       "    </tr>\n",
       "  </tbody>\n",
       "</table>\n",
       "<p>109 rows × 9 columns</p>\n",
       "</div>"
      ],
      "text/plain": [
       "                     Food_Name  \\\n",
       "0                       Abacha   \n",
       "1    Abacha and Ugba (Regular)   \n",
       "2              Abacha and Ugba   \n",
       "3           Afang Soup (Spicy)   \n",
       "4                   Afang Soup   \n",
       "..                         ...   \n",
       "104                      Ukodo   \n",
       "105          Ukwa (Breadfruit)   \n",
       "106                 White Soup   \n",
       "107          White Soup (Goat)   \n",
       "108       White Soup (Special)   \n",
       "\n",
       "                                      Main_Ingredients  \\\n",
       "0               African salad, utazi leaves, oil, fish   \n",
       "1          Abacha (Cassava Fufu), Ugba (Oilbean Seeds)   \n",
       "2    African salad, oil, fish, fermented oil bean s...   \n",
       "3                     Afang Leaves, Water yam, Seafood   \n",
       "4                  Afang leaves, waterleaf, meat, fish   \n",
       "..                                                 ...   \n",
       "104                         Yam, plantains, meat, fish   \n",
       "105                       Breadfruit, palm oil, spices   \n",
       "106                      Yams, Ugu (Spinach), Palm Oil   \n",
       "107  Catfish (substitute with expensive protein - g...   \n",
       "108  Catfish, expensive starches (plantain flour), ...   \n",
       "\n",
       "                                           Description Food_Health  \\\n",
       "0                  Cassava-based salad with spicy fish     Healthy   \n",
       "1     Shredded cassava fufu served with oilbean seeds.     Healthy   \n",
       "2    Cassava-based salad with spicy fish and fermen...     Healthy   \n",
       "3    Spicy soup made with afang leaves, water yam, ...     Healthy   \n",
       "4    Nutritious soup made with wild spinach and wat...     Healthy   \n",
       "..                                                 ...         ...   \n",
       "104   Yam and plantain pepper soup with assorted meats     Healthy   \n",
       "105  Special occasion dish made with breadfruit, a ...     Healthy   \n",
       "106  Creamy white soup made with yams, spinach, and...     Healthy   \n",
       "107  White soup with goat meat as a pricier alterna...     Healthy   \n",
       "108  Special white soup made with catfish and premi...     Healthy   \n",
       "\n",
       "      Food_Class       Region Spice_Level         Price_Range  \\\n",
       "0    Traditional   South-East       Spicy          Affordable   \n",
       "1    Traditional      Eastern        None          Affordable   \n",
       "2          Salad   South-East       Spicy          Affordable   \n",
       "3    Traditional     Southern       Spicy          Affordable   \n",
       "4    Traditional  South-South        Mild          Affordable   \n",
       "..           ...          ...         ...                 ...   \n",
       "104  Traditional   South-East       Spicy          Affordable   \n",
       "105  Traditional   South-East      Varies  Moderate-Expensive   \n",
       "106  Traditional      Eastern        None          Affordable   \n",
       "107  Traditional   South-East        Mild  Moderate-Expensive   \n",
       "108  Traditional   South-East        Mild           Expensive   \n",
       "\n",
       "                                             full_decs  \n",
       "0    African salad, utazi leaves, oil, fish Cassava...  \n",
       "1    Abacha (Cassava Fufu), Ugba (Oilbean Seeds) Sh...  \n",
       "2    African salad, oil, fish, fermented oil bean s...  \n",
       "3    Afang Leaves, Water yam, Seafood Spicy soup ma...  \n",
       "4    Afang leaves, waterleaf, meat, fish Nutritious...  \n",
       "..                                                 ...  \n",
       "104  Yam, plantains, meat, fish Yam and plantain pe...  \n",
       "105  Breadfruit, palm oil, spices Special occasion ...  \n",
       "106  Yams, Ugu (Spinach), Palm Oil Creamy white sou...  \n",
       "107  Catfish (substitute with expensive protein - g...  \n",
       "108  Catfish, expensive starches (plantain flour), ...  \n",
       "\n",
       "[109 rows x 9 columns]"
      ]
     },
     "execution_count": 9,
     "metadata": {},
     "output_type": "execute_result"
    }
   ],
   "source": [
    "df['full_decs'] = df.apply(create_food, axis=1)\n",
    "df"
   ]
  },
  {
   "cell_type": "raw",
   "id": "9041b5e3",
   "metadata": {
    "papermill": {
     "duration": 0.007926,
     "end_time": "2024-03-08T20:41:49.139449",
     "exception": false,
     "start_time": "2024-03-08T20:41:49.131523",
     "status": "completed"
    },
    "tags": []
   },
   "source": [
    "df['full_decs']"
   ]
  },
  {
   "cell_type": "code",
   "execution_count": 10,
   "id": "da2f3e3d",
   "metadata": {
    "execution": {
     "iopub.execute_input": "2024-03-08T20:41:49.156467Z",
     "iopub.status.busy": "2024-03-08T20:41:49.156042Z",
     "iopub.status.idle": "2024-03-08T20:41:49.166528Z",
     "shell.execute_reply": "2024-03-08T20:41:49.164624Z"
    },
    "papermill": {
     "duration": 0.022192,
     "end_time": "2024-03-08T20:41:49.168949",
     "exception": false,
     "start_time": "2024-03-08T20:41:49.146757",
     "status": "completed"
    },
    "tags": []
   },
   "outputs": [
    {
     "data": {
      "text/plain": [
       "0      African salad, utazi leaves, oil, fish Cassava...\n",
       "1      Abacha (Cassava Fufu), Ugba (Oilbean Seeds) Sh...\n",
       "2      African salad, oil, fish, fermented oil bean s...\n",
       "3      Afang Leaves, Water yam, Seafood Spicy soup ma...\n",
       "4      Afang leaves, waterleaf, meat, fish Nutritious...\n",
       "                             ...                        \n",
       "104    Yam, plantains, meat, fish Yam and plantain pe...\n",
       "105    Breadfruit, palm oil, spices Special occasion ...\n",
       "106    Yams, Ugu (Spinach), Palm Oil Creamy white sou...\n",
       "107    Catfish (substitute with expensive protein - g...\n",
       "108    Catfish, expensive starches (plantain flour), ...\n",
       "Name: full_decs, Length: 109, dtype: object"
      ]
     },
     "execution_count": 10,
     "metadata": {},
     "output_type": "execute_result"
    }
   ],
   "source": [
    "df['full_decs']"
   ]
  },
  {
   "cell_type": "code",
   "execution_count": 11,
   "id": "1f9d59ce",
   "metadata": {
    "execution": {
     "iopub.execute_input": "2024-03-08T20:41:49.186073Z",
     "iopub.status.busy": "2024-03-08T20:41:49.185641Z",
     "iopub.status.idle": "2024-03-08T20:41:49.206486Z",
     "shell.execute_reply": "2024-03-08T20:41:49.205183Z"
    },
    "papermill": {
     "duration": 0.032612,
     "end_time": "2024-03-08T20:41:49.209368",
     "exception": false,
     "start_time": "2024-03-08T20:41:49.176756",
     "status": "completed"
    },
    "tags": []
   },
   "outputs": [],
   "source": [
    "count = CountVectorizer(stop_words='english')\n",
    "count_matrix = count.fit_transform(df['full_decs'])"
   ]
  },
  {
   "cell_type": "code",
   "execution_count": 12,
   "id": "283d1e60",
   "metadata": {
    "execution": {
     "iopub.execute_input": "2024-03-08T20:41:49.226048Z",
     "iopub.status.busy": "2024-03-08T20:41:49.225536Z",
     "iopub.status.idle": "2024-03-08T20:41:49.237521Z",
     "shell.execute_reply": "2024-03-08T20:41:49.236063Z"
    },
    "papermill": {
     "duration": 0.02342,
     "end_time": "2024-03-08T20:41:49.240407",
     "exception": false,
     "start_time": "2024-03-08T20:41:49.216987",
     "status": "completed"
    },
    "tags": []
   },
   "outputs": [],
   "source": [
    "cosine_sim2 = cosine_similarity(count_matrix, count_matrix)"
   ]
  },
  {
   "cell_type": "code",
   "execution_count": 13,
   "id": "61c1a905",
   "metadata": {
    "execution": {
     "iopub.execute_input": "2024-03-08T20:41:49.258042Z",
     "iopub.status.busy": "2024-03-08T20:41:49.257548Z",
     "iopub.status.idle": "2024-03-08T20:41:49.265156Z",
     "shell.execute_reply": "2024-03-08T20:41:49.263844Z"
    },
    "papermill": {
     "duration": 0.019623,
     "end_time": "2024-03-08T20:41:49.267997",
     "exception": false,
     "start_time": "2024-03-08T20:41:49.248374",
     "status": "completed"
    },
    "tags": []
   },
   "outputs": [],
   "source": [
    "df = df.reset_index()\n",
    "indices = pd.Series(df.index, index=df['Food_Name'])"
   ]
  },
  {
   "cell_type": "code",
   "execution_count": 14,
   "id": "4e54849c",
   "metadata": {
    "execution": {
     "iopub.execute_input": "2024-03-08T20:41:49.283456Z",
     "iopub.status.busy": "2024-03-08T20:41:49.283007Z",
     "iopub.status.idle": "2024-03-08T20:41:49.291418Z",
     "shell.execute_reply": "2024-03-08T20:41:49.290561Z"
    },
    "papermill": {
     "duration": 0.018944,
     "end_time": "2024-03-08T20:41:49.293719",
     "exception": false,
     "start_time": "2024-03-08T20:41:49.274775",
     "status": "completed"
    },
    "tags": []
   },
   "outputs": [
    {
     "data": {
      "text/plain": [
       "Food_Name\n",
       "Abacha                         0\n",
       "Abacha and Ugba (Regular)      1\n",
       "Abacha and Ugba                2\n",
       "Afang Soup (Spicy)             3\n",
       "Afang Soup                     4\n",
       "                            ... \n",
       "Ukodo                        104\n",
       "Ukwa (Breadfruit)            105\n",
       "White Soup                   106\n",
       "White Soup (Goat)            107\n",
       "White Soup (Special)         108\n",
       "Length: 109, dtype: int64"
      ]
     },
     "execution_count": 14,
     "metadata": {},
     "output_type": "execute_result"
    }
   ],
   "source": [
    "indices"
   ]
  },
  {
   "cell_type": "code",
   "execution_count": 15,
   "id": "1c97f019",
   "metadata": {
    "execution": {
     "iopub.execute_input": "2024-03-08T20:41:49.311091Z",
     "iopub.status.busy": "2024-03-08T20:41:49.310662Z",
     "iopub.status.idle": "2024-03-08T20:41:49.318206Z",
     "shell.execute_reply": "2024-03-08T20:41:49.316784Z"
    },
    "papermill": {
     "duration": 0.02013,
     "end_time": "2024-03-08T20:41:49.321083",
     "exception": false,
     "start_time": "2024-03-08T20:41:49.300953",
     "status": "completed"
    },
    "tags": []
   },
   "outputs": [],
   "source": [
    "def get_recommendations(title, cosine_sim=cosine_sim2):\n",
    "    print(title)\n",
    "    idx = indices[title]\n",
    "    print(idx)\n",
    "    sim_scores = list(enumerate(cosine_sim[idx]))\n",
    "    # print(sim_scores)\n",
    "    sim_scores = sorted(sim_scores, key=lambda x: x[1], reverse=True)\n",
    "\n",
    "    # Get the scores of the 5 most similar food\n",
    "    sim_scores = sim_scores[1:11]\n",
    "    \n",
    "    food_indices = [i[0] for i in sim_scores]\n",
    "    \n",
    "    # Add sim_score to the DataFrame\n",
    "    df_recommendations = df.iloc[food_indices].copy()\n",
    "    df_recommendations['sim_score'] = [round(score * 100, 2) for score in [i[1] for i in sim_scores]]\n",
    "\n",
    "    return df_recommendations\n"
   ]
  },
  {
   "cell_type": "code",
   "execution_count": 16,
   "id": "9045276e",
   "metadata": {
    "execution": {
     "iopub.execute_input": "2024-03-08T20:41:49.338671Z",
     "iopub.status.busy": "2024-03-08T20:41:49.338014Z",
     "iopub.status.idle": "2024-03-08T20:41:49.360234Z",
     "shell.execute_reply": "2024-03-08T20:41:49.359154Z"
    },
    "papermill": {
     "duration": 0.03409,
     "end_time": "2024-03-08T20:41:49.363038",
     "exception": false,
     "start_time": "2024-03-08T20:41:49.328948",
     "status": "completed"
    },
    "tags": []
   },
   "outputs": [
    {
     "name": "stdout",
     "output_type": "stream",
     "text": [
      "Jollof Rice\n",
      "58\n"
     ]
    },
    {
     "data": {
      "text/html": [
       "<div>\n",
       "<style scoped>\n",
       "    .dataframe tbody tr th:only-of-type {\n",
       "        vertical-align: middle;\n",
       "    }\n",
       "\n",
       "    .dataframe tbody tr th {\n",
       "        vertical-align: top;\n",
       "    }\n",
       "\n",
       "    .dataframe thead th {\n",
       "        text-align: right;\n",
       "    }\n",
       "</style>\n",
       "<table border=\"1\" class=\"dataframe\">\n",
       "  <thead>\n",
       "    <tr style=\"text-align: right;\">\n",
       "      <th></th>\n",
       "      <th>index</th>\n",
       "      <th>Food_Name</th>\n",
       "      <th>Main_Ingredients</th>\n",
       "      <th>Description</th>\n",
       "      <th>Food_Health</th>\n",
       "      <th>Food_Class</th>\n",
       "      <th>Region</th>\n",
       "      <th>Spice_Level</th>\n",
       "      <th>Price_Range</th>\n",
       "      <th>full_decs</th>\n",
       "      <th>sim_score</th>\n",
       "    </tr>\n",
       "  </thead>\n",
       "  <tbody>\n",
       "    <tr>\n",
       "      <th>57</th>\n",
       "      <td>57</td>\n",
       "      <td>Jollof Rice (Spicy)</td>\n",
       "      <td>Rice, Tomatoes, Peppers, Onions, Meat (optional)</td>\n",
       "      <td>Savory tomato-based rice dish with meat or veg...</td>\n",
       "      <td>Moderately Healthy</td>\n",
       "      <td>Traditional</td>\n",
       "      <td>Nationwide</td>\n",
       "      <td>Spicy</td>\n",
       "      <td>Affordable</td>\n",
       "      <td>Rice, Tomatoes, Peppers, Onions, Meat (optiona...</td>\n",
       "      <td>65.58</td>\n",
       "    </tr>\n",
       "    <tr>\n",
       "      <th>32</th>\n",
       "      <td>32</td>\n",
       "      <td>Coconut Rice</td>\n",
       "      <td>Rice, coconut milk, vegetables, chicken</td>\n",
       "      <td>Rice cooked with coconut milk and spices</td>\n",
       "      <td>Moderately Healthy</td>\n",
       "      <td>Modern</td>\n",
       "      <td>Nationwide</td>\n",
       "      <td>Mild</td>\n",
       "      <td>Affordable</td>\n",
       "      <td>Rice, coconut milk, vegetables, chicken Rice c...</td>\n",
       "      <td>55.00</td>\n",
       "    </tr>\n",
       "    <tr>\n",
       "      <th>59</th>\n",
       "      <td>59</td>\n",
       "      <td>Jollof Rice (Party)</td>\n",
       "      <td>Rice, expensive protein (assorted meats, seafo...</td>\n",
       "      <td>Party-sized Jollof rice with a wider variety o...</td>\n",
       "      <td>Moderately Healthy</td>\n",
       "      <td>Traditional</td>\n",
       "      <td>Nationwide</td>\n",
       "      <td>Medium</td>\n",
       "      <td>Expensive</td>\n",
       "      <td>Rice, expensive protein (assorted meats, seafo...</td>\n",
       "      <td>54.43</td>\n",
       "    </tr>\n",
       "    <tr>\n",
       "      <th>50</th>\n",
       "      <td>50</td>\n",
       "      <td>Fried Rice</td>\n",
       "      <td>Rice, vegetables, chicken, shrimp</td>\n",
       "      <td>Stir-fried rice with colorful vegetables and p...</td>\n",
       "      <td>Moderately Healthy</td>\n",
       "      <td>Modern</td>\n",
       "      <td>Nationwide</td>\n",
       "      <td>Mild</td>\n",
       "      <td>Affordable</td>\n",
       "      <td>Rice, vegetables, chicken, shrimp Stir-fried r...</td>\n",
       "      <td>53.07</td>\n",
       "    </tr>\n",
       "    <tr>\n",
       "      <th>13</th>\n",
       "      <td>13</td>\n",
       "      <td>Ayamase Sauce</td>\n",
       "      <td>Green peppers, onions, locust beans, spices</td>\n",
       "      <td>Spicy green pepper sauce, often paired with Of...</td>\n",
       "      <td>Moderately Healthy</td>\n",
       "      <td>Modern</td>\n",
       "      <td>South-West</td>\n",
       "      <td>Spicy</td>\n",
       "      <td>Affordable</td>\n",
       "      <td>Green peppers, onions, locust beans, spices Sp...</td>\n",
       "      <td>53.07</td>\n",
       "    </tr>\n",
       "    <tr>\n",
       "      <th>76</th>\n",
       "      <td>76</td>\n",
       "      <td>Ofada Rice (Special)</td>\n",
       "      <td>Ofada rice, special palm oil, locust beans, sp...</td>\n",
       "      <td>Ofada rice dish prepared with a high-quality p...</td>\n",
       "      <td>Moderately Healthy</td>\n",
       "      <td>Traditional</td>\n",
       "      <td>South-West</td>\n",
       "      <td>Spicy</td>\n",
       "      <td>Moderate-Expensive</td>\n",
       "      <td>Ofada rice, special palm oil, locust beans, sp...</td>\n",
       "      <td>52.30</td>\n",
       "    </tr>\n",
       "    <tr>\n",
       "      <th>31</th>\n",
       "      <td>31</td>\n",
       "      <td>Coconut Rice (Regular)</td>\n",
       "      <td>Rice, Coconut Milk, Spices</td>\n",
       "      <td>Savory rice dish cooked with coconut milk and ...</td>\n",
       "      <td>Healthy</td>\n",
       "      <td>Traditional</td>\n",
       "      <td>Southern</td>\n",
       "      <td>None</td>\n",
       "      <td>Affordable</td>\n",
       "      <td>Rice, Coconut Milk, Spices Savory rice dish co...</td>\n",
       "      <td>48.99</td>\n",
       "    </tr>\n",
       "    <tr>\n",
       "      <th>29</th>\n",
       "      <td>29</td>\n",
       "      <td>Chinchinga</td>\n",
       "      <td>Kebabs, vegetables, spices</td>\n",
       "      <td>Grilled skewers, a popular street food</td>\n",
       "      <td>Moderately Healthy</td>\n",
       "      <td>Snack</td>\n",
       "      <td>North</td>\n",
       "      <td>Spicy</td>\n",
       "      <td>Affordable</td>\n",
       "      <td>Kebabs, vegetables, spices Grilled skewers, a ...</td>\n",
       "      <td>46.83</td>\n",
       "    </tr>\n",
       "    <tr>\n",
       "      <th>33</th>\n",
       "      <td>33</td>\n",
       "      <td>Coconut Rice (Seafood)</td>\n",
       "      <td>Rice, coconut milk, vegetables, expensive seaf...</td>\n",
       "      <td>Rice cooked with coconut milk and spices, feat...</td>\n",
       "      <td>Moderately Healthy</td>\n",
       "      <td>Modern</td>\n",
       "      <td>Nationwide</td>\n",
       "      <td>Mild</td>\n",
       "      <td>Expensive</td>\n",
       "      <td>Rice, coconut milk, vegetables, expensive seaf...</td>\n",
       "      <td>44.23</td>\n",
       "    </tr>\n",
       "    <tr>\n",
       "      <th>75</th>\n",
       "      <td>75</td>\n",
       "      <td>Obe Ata</td>\n",
       "      <td>Chicken, palm oil, tomatoes, peppers, spices</td>\n",
       "      <td>Spicy chicken stew cooked in palm oil</td>\n",
       "      <td>Moderately Healthy</td>\n",
       "      <td>Stew</td>\n",
       "      <td>South-South</td>\n",
       "      <td>Spicy</td>\n",
       "      <td>Affordable</td>\n",
       "      <td>Chicken, palm oil, tomatoes, peppers, spices S...</td>\n",
       "      <td>44.23</td>\n",
       "    </tr>\n",
       "  </tbody>\n",
       "</table>\n",
       "</div>"
      ],
      "text/plain": [
       "    index               Food_Name  \\\n",
       "57     57     Jollof Rice (Spicy)   \n",
       "32     32            Coconut Rice   \n",
       "59     59     Jollof Rice (Party)   \n",
       "50     50              Fried Rice   \n",
       "13     13           Ayamase Sauce   \n",
       "76     76    Ofada Rice (Special)   \n",
       "31     31  Coconut Rice (Regular)   \n",
       "29     29              Chinchinga   \n",
       "33     33  Coconut Rice (Seafood)   \n",
       "75     75                 Obe Ata   \n",
       "\n",
       "                                     Main_Ingredients  \\\n",
       "57   Rice, Tomatoes, Peppers, Onions, Meat (optional)   \n",
       "32            Rice, coconut milk, vegetables, chicken   \n",
       "59  Rice, expensive protein (assorted meats, seafo...   \n",
       "50                  Rice, vegetables, chicken, shrimp   \n",
       "13        Green peppers, onions, locust beans, spices   \n",
       "76  Ofada rice, special palm oil, locust beans, sp...   \n",
       "31                         Rice, Coconut Milk, Spices   \n",
       "29                         Kebabs, vegetables, spices   \n",
       "33  Rice, coconut milk, vegetables, expensive seaf...   \n",
       "75       Chicken, palm oil, tomatoes, peppers, spices   \n",
       "\n",
       "                                          Description         Food_Health  \\\n",
       "57  Savory tomato-based rice dish with meat or veg...  Moderately Healthy   \n",
       "32           Rice cooked with coconut milk and spices  Moderately Healthy   \n",
       "59  Party-sized Jollof rice with a wider variety o...  Moderately Healthy   \n",
       "50  Stir-fried rice with colorful vegetables and p...  Moderately Healthy   \n",
       "13  Spicy green pepper sauce, often paired with Of...  Moderately Healthy   \n",
       "76  Ofada rice dish prepared with a high-quality p...  Moderately Healthy   \n",
       "31  Savory rice dish cooked with coconut milk and ...             Healthy   \n",
       "29             Grilled skewers, a popular street food  Moderately Healthy   \n",
       "33  Rice cooked with coconut milk and spices, feat...  Moderately Healthy   \n",
       "75              Spicy chicken stew cooked in palm oil  Moderately Healthy   \n",
       "\n",
       "     Food_Class       Region Spice_Level         Price_Range  \\\n",
       "57  Traditional   Nationwide       Spicy          Affordable   \n",
       "32       Modern   Nationwide        Mild          Affordable   \n",
       "59  Traditional   Nationwide      Medium           Expensive   \n",
       "50       Modern   Nationwide        Mild          Affordable   \n",
       "13       Modern   South-West       Spicy          Affordable   \n",
       "76  Traditional   South-West       Spicy  Moderate-Expensive   \n",
       "31  Traditional     Southern        None          Affordable   \n",
       "29        Snack        North       Spicy          Affordable   \n",
       "33       Modern   Nationwide        Mild           Expensive   \n",
       "75         Stew  South-South       Spicy          Affordable   \n",
       "\n",
       "                                            full_decs  sim_score  \n",
       "57  Rice, Tomatoes, Peppers, Onions, Meat (optiona...      65.58  \n",
       "32  Rice, coconut milk, vegetables, chicken Rice c...      55.00  \n",
       "59  Rice, expensive protein (assorted meats, seafo...      54.43  \n",
       "50  Rice, vegetables, chicken, shrimp Stir-fried r...      53.07  \n",
       "13  Green peppers, onions, locust beans, spices Sp...      53.07  \n",
       "76  Ofada rice, special palm oil, locust beans, sp...      52.30  \n",
       "31  Rice, Coconut Milk, Spices Savory rice dish co...      48.99  \n",
       "29  Kebabs, vegetables, spices Grilled skewers, a ...      46.83  \n",
       "33  Rice, coconut milk, vegetables, expensive seaf...      44.23  \n",
       "75  Chicken, palm oil, tomatoes, peppers, spices S...      44.23  "
      ]
     },
     "execution_count": 16,
     "metadata": {},
     "output_type": "execute_result"
    }
   ],
   "source": [
    "get_recommendations('Jollof Rice')"
   ]
  },
  {
   "cell_type": "code",
   "execution_count": 17,
   "id": "a3fdd1f3",
   "metadata": {
    "execution": {
     "iopub.execute_input": "2024-03-08T20:41:49.381279Z",
     "iopub.status.busy": "2024-03-08T20:41:49.380694Z",
     "iopub.status.idle": "2024-03-08T20:41:49.386879Z",
     "shell.execute_reply": "2024-03-08T20:41:49.385905Z"
    },
    "papermill": {
     "duration": 0.018024,
     "end_time": "2024-03-08T20:41:49.389053",
     "exception": false,
     "start_time": "2024-03-08T20:41:49.371029",
     "status": "completed"
    },
    "tags": []
   },
   "outputs": [],
   "source": [
    "import pickle\n",
    "\n",
    "# Assuming cosine_sim2 is the cosine similarity matrix you want to save\n",
    "with open('cosine_sim2.pkl', 'wb') as file:\n",
    "    pickle.dump(cosine_sim2, file)"
   ]
  },
  {
   "cell_type": "code",
   "execution_count": null,
   "id": "ddf99dce",
   "metadata": {
    "papermill": {
     "duration": 0.006847,
     "end_time": "2024-03-08T20:41:49.403289",
     "exception": false,
     "start_time": "2024-03-08T20:41:49.396442",
     "status": "completed"
    },
    "tags": []
   },
   "outputs": [],
   "source": []
  }
 ],
 "metadata": {
  "kaggle": {
   "accelerator": "none",
   "dataSources": [
    {
     "datasetId": 4561573,
     "sourceId": 7794922,
     "sourceType": "datasetVersion"
    }
   ],
   "dockerImageVersionId": 30664,
   "isGpuEnabled": false,
   "isInternetEnabled": true,
   "language": "python",
   "sourceType": "notebook"
  },
  "kernelspec": {
   "display_name": "Python 3",
   "language": "python",
   "name": "python3"
  },
  "language_info": {
   "codemirror_mode": {
    "name": "ipython",
    "version": 3
   },
   "file_extension": ".py",
   "mimetype": "text/x-python",
   "name": "python",
   "nbconvert_exporter": "python",
   "pygments_lexer": "ipython3",
   "version": "3.10.13"
  },
  "papermill": {
   "default_parameters": {},
   "duration": 7.456567,
   "end_time": "2024-03-08T20:41:50.233678",
   "environment_variables": {},
   "exception": null,
   "input_path": "__notebook__.ipynb",
   "output_path": "__notebook__.ipynb",
   "parameters": {},
   "start_time": "2024-03-08T20:41:42.777111",
   "version": "2.5.0"
  }
 },
 "nbformat": 4,
 "nbformat_minor": 5
}
